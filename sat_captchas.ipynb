{
 "cells": [
  {
   "cell_type": "code",
   "execution_count": 13,
   "metadata": {},
   "outputs": [],
   "source": [
    "import time\n",
    "import re\n",
    "import base64\n",
    "import os\n",
    "import pyperclip\n",
    "from datetime import datetime\n",
    "from io import BytesIO\n",
    "from PIL import Image, ImageDraw\n",
    "from selenium import webdriver\n",
    "from selenium.webdriver.firefox.options import Options\n",
    "from twocaptcha import TwoCaptcha\n",
    "from IPython.display import display, clear_output"
   ]
  },
  {
   "cell_type": "code",
   "execution_count": null,
   "metadata": {},
   "outputs": [
    {
     "name": "stdout",
     "output_type": "stream",
     "text": [
      "CAPTCHA #3:\n"
     ]
    },
    {
     "data": {
      "image/jpeg": "[encoded data removed]",
      "image/png": "[encoded data removed]",
      "text/plain": [
       "<PIL.PngImagePlugin.PngImageFile image mode=RGB size=160x60>"
      ]
     },
     "metadata": {},
     "output_type": "display_data"
    },
    {
     "name": "stdout",
     "output_type": "stream",
     "text": [
      "Esperando respuesta de TwoCaptcha...\n",
      "Respuesta: NHXHIC\n",
      "WebDriver cerrado.\n"
     ]
    }
   ],
   "source": [
    "# Configurar opciones para ejecutar en segundo plano (headless)\n",
    "firefox_options = Options()\n",
    "firefox_options.add_argument(\"--headless\")  # Modo sin interfaz gráfica\n",
    "\n",
    "# Inicializar WebDriver con opciones\n",
    "driver = webdriver.Firefox(options=firefox_options)\n",
    "\n",
    "# Acceder a la página (sin abrir ventana)\n",
    "driver.get(\"https://login.siat.sat.gob.mx/nidp/app/\")\n",
    "print(\"WebDriver inicializado.\")\n",
    "\n",
    "# Configurar TwoCaptcha\n",
    "solver = TwoCaptcha('a04de98e78dd8976ba65b1a7300d461a')\n",
    "\n",
    "# Obtener la fecha actual en formato DD-MM-YYYY\n",
    "fecha_actual = datetime.now().strftime(\"%d-%m-%Y\")\n",
    "\n",
    "# Crear la carpeta si no existe\n",
    "os.makedirs(fecha_actual, exist_ok=True)\n",
    "\n",
    "# Definir la ruta del archivo temporal\n",
    "temp_filename = os.path.join(fecha_actual, \"temp_captcha.png\")\n",
    "\n",
    "for i in range(3):\n",
    "    clear_output(wait=True)  # Limpiar la salida de la celda\n",
    "    driver.refresh()  # Refrescar la página para obtener un nuevo CAPTCHA\n",
    "\n",
    "    # Manejar posibles alertas\n",
    "    try:\n",
    "        alert = driver.switch_to.alert\n",
    "        alert.accept()\n",
    "    except Exception:\n",
    "        pass\n",
    "\n",
    "    time.sleep(3)  # Esperar a que se genere el CAPTCHA\n",
    "\n",
    "    # Obtener el código fuente de la página\n",
    "    page_source = driver.page_source\n",
    "    \n",
    "    # Buscar la imagen CAPTCHA en base64\n",
    "    match = re.search(r'<img src=\"data:image/jpeg;base64,([^\"]+)\"', page_source)\n",
    "\n",
    "    if match:\n",
    "        base64_string = match.group(1)\n",
    "        image_data = base64.b64decode(base64_string)\n",
    "        image = Image.open(BytesIO(image_data))\n",
    "        \n",
    "        print(f\"CAPTCHA #{i+1}:\")\n",
    "        display(image)\n",
    "\n",
    "        # Guardar temporalmente la imagen en la carpeta\n",
    "        image.save(temp_filename)\n",
    "\n",
    "        # Esperar hasta recibir una respuesta válida de TwoCaptcha\n",
    "        captcha_code = None\n",
    "        print(\"Esperando respuesta de TwoCaptcha...\")\n",
    "        while not captcha_code:  # No se avanza hasta obtener una respuesta\n",
    "            try:\n",
    "                result = solver.normal(temp_filename, numeric=4, minLen=6, maxLen=6)  # Resolver el CAPTCHA\n",
    "                captcha_id = result.get(\"captchaId\")  # Obtener el id del captcha\n",
    "                captcha_code = result.get(\"code\", \"\").upper()  # Convertir a mayúsculas\n",
    "            except Exception as e:\n",
    "                print(f\"Error capturado: {e}\")\n",
    "                time.sleep(3)  # Esperar 3 segundos antes de intentar de nuevo\n",
    "\n",
    "        print(f\"Respuesta: {captcha_code}\")\n",
    "        # Confirmar si la respuesta es correcta\n",
    "        validacion = input(\"¿La respuesta es correcta? (s/n): \").strip().lower()\n",
    "\n",
    "        if validacion == \"s\":\n",
    "            solver.report(captcha_id, True)  # Reportar como correcta\n",
    "        else:\n",
    "            solver.report(captcha_id, False)  # Reportar como incorrecta\n",
    "\n",
    "            # Permitir al usuario corregir el CAPTCHA manualmente\n",
    "            pyperclip.copy(captcha_code)\n",
    "            captcha_code = input(f\"Corrige el CAPTCHA: \").strip().upper()\n",
    "\n",
    "        # Guardar la imagen con el nombre en mayúsculas\n",
    "        final_filename = os.path.join(fecha_actual, f\"{captcha_code}.png\")\n",
    "        image.save(final_filename)\n",
    "\n",
    "# Cerrar el WebDriver\n",
    "driver.quit()\n",
    "clear_output(wait=True)\n",
    "print(\"WebDriver cerrado.\")\n",
    "\n",
    "# Eliminar el archivo temporal después de finalizar\n",
    "if os.path.exists(temp_filename):\n",
    "    os.remove(temp_filename)"
   ]
  },
  {
   "cell_type": "code",
   "execution_count": 16,
   "metadata": {},
   "outputs": [
    {
     "data": {
      "image/jpeg": "[encoded data removed]",
      "image/png": "[encoded data removed]",
      "text/plain": [
       "<PIL.Image.Image image mode=RGB size=27x27>"
      ]
     },
     "metadata": {},
     "output_type": "display_data"
    },
    {
     "data": {
      "image/jpeg": "[encoded data removed]",
      "image/png": "[encoded data removed]",
      "text/plain": [
       "<PIL.Image.Image image mode=RGB size=27x27>"
      ]
     },
     "metadata": {},
     "output_type": "display_data"
    },
    {
     "data": {
      "image/jpeg": "[encoded data removed]",
      "image/png": "[encoded data removed]",
      "text/plain": [
       "<PIL.Image.Image image mode=RGB size=27x27>"
      ]
     },
     "metadata": {},
     "output_type": "display_data"
    },
    {
     "data": {
      "image/jpeg": "[encoded data removed]",
      "image/png": "[encoded data removed]",
      "text/plain": [
       "<PIL.Image.Image image mode=RGB size=27x27>"
      ]
     },
     "metadata": {},
     "output_type": "display_data"
    },
    {
     "data": {
      "image/jpeg": "[encoded data removed]",
      "image/png": "[encoded data removed]",
      "text/plain": [
       "<PIL.Image.Image image mode=RGB size=27x27>"
      ]
     },
     "metadata": {},
     "output_type": "display_data"
    },
    {
     "data": {
      "image/jpeg": "[encoded data removed]",
      "image/png": "[encoded data removed]",
      "text/plain": [
       "<PIL.Image.Image image mode=RGB size=27x27>"
      ]
     },
     "metadata": {},
     "output_type": "display_data"
    },
    {
     "data": {
      "image/jpeg": "[encoded data removed]",
      "image/png": "[encoded data removed]",
      "text/plain": [
       "<PIL.PngImagePlugin.PngImageFile image mode=RGB size=160x60>"
      ]
     },
     "metadata": {},
     "output_type": "display_data"
    }
   ],
   "source": [
    "# Cargar imagen\n",
    "imagen = Image.open(\"tipo1.png\")\n",
    "\n",
    "# Definir coordenadas de los recortes (x_inicio, y_inicio, x_fin, y_fin)\n",
    "rectangulos = [\n",
    "    (0, 5, 27, 32),  # Primer recorte\n",
    "    (25, 16, 52, 43),   # Segundo recorte\n",
    "    (50, 5, 77, 32),\n",
    "    (75, 16, 102, 43),\n",
    "    (100, 5, 127, 32),\n",
    "    (125, 16, 152, 43)\n",
    "]\n",
    "\n",
    "# Recortar y guardar cada sección\n",
    "for i, coords in enumerate(rectangulos):\n",
    "    recorte = imagen.crop(coords)\n",
    "    display(recorte)\n",
    "    # recorte.save(f\"recorte_{i+1}.jpg\")  # Guardar recorte\n",
    "\n",
    "# Dibujar rectángulos en la imagen original\n",
    "dibujar = ImageDraw.Draw(imagen)\n",
    "for coords in rectangulos:\n",
    "    dibujar.rectangle(coords, outline=\"red\", width=1)  # Rectángulo rojo\n",
    "\n",
    "display(imagen)"
   ]
  }
 ],
 "metadata": {
  "kernelspec": {
   "display_name": "Python 3",
   "language": "python",
   "name": "python3"
  },
  "language_info": {
   "codemirror_mode": {
    "name": "ipython",
    "version": 3
   },
   "file_extension": ".py",
   "mimetype": "text/x-python",
   "name": "python",
   "nbconvert_exporter": "python",
   "pygments_lexer": "ipython3",
   "version": "3.11.9"
  }
 },
 "nbformat": 4,
 "nbformat_minor": 2
}
